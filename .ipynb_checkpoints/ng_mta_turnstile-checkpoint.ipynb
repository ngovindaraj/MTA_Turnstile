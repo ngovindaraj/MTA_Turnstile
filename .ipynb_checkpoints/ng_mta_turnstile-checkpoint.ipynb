{
 "cells": [
  {
   "cell_type": "markdown",
   "metadata": {},
   "source": [
    "# NYC MTA Turnstile Dataset Cleanup & EDA"
   ]
  },
  {
   "cell_type": "markdown",
   "metadata": {},
   "source": [
    "### I) Setting Up"
   ]
  },
  {
   "cell_type": "code",
   "execution_count": 214,
   "metadata": {
    "collapsed": false
   },
   "outputs": [
    {
     "name": "stdout",
     "output_type": "stream",
     "text": [
      "Populating the interactive namespace from numpy and matplotlib\n"
     ]
    }
   ],
   "source": [
    "from IPython.display import display\n",
    "import warnings\n",
    "import calendar\n",
    "warnings.filterwarnings('ignore')\n",
    "import pandas as pd\n",
    "import numpy as np\n",
    "\n",
    "import matplotlib.pyplot as plt\n",
    "import seaborn as sns\n",
    "sns.set_style(\"whitegrid\")\n",
    "%pylab inline"
   ]
  },
  {
   "cell_type": "code",
   "execution_count": 215,
   "metadata": {
    "collapsed": true
   },
   "outputs": [],
   "source": [
    "# Source - http://web.mta.info/developers/data/nyct/turnstile/turnstile_180922.txt\n",
    "# Source description - http://web.mta.info/developers/resources/nyct/turnstile/ts_Field_Description.txt\n",
    "\n",
    "# Source: https://catalog.data.gov/dataset/demographic-statistics-by-zip-code-acfc9\n",
    "# gender_df = pd.read_csv('gender_by_zipcode.csv')"
   ]
  },
  {
   "cell_type": "code",
   "execution_count": 216,
   "metadata": {
    "collapsed": true
   },
   "outputs": [],
   "source": [
    "# Process and dump a single file\n",
    "def delta_processor(filename):\n",
    "    df = pd.read_csv(filename)\n",
    "    \n",
    "    #Cleanup column names - remove spaces\n",
    "    df.rename(columns=lambda x: x.strip(), inplace=True)\n",
    "\n",
    "    # Cleaning datetime\n",
    "    print(\"Cleaning up date time\")\n",
    "    df.loc[:,'DATETIME'] = pd.to_datetime(df['DATE'] + ' ' + df['TIME'])\n",
    "    df['DAY'] = df['DATETIME']\n",
    "    df['DAY'] = df['DAY'].apply(lambda x : calendar.day_name[x.weekday()])\n",
    "    \n",
    "    # diff entry and exit and update dataframe\n",
    "    print('Calculate running delta for entry/exit time')\n",
    "    entries_diff = df['ENTRIES'].diff()\n",
    "    entries_diff = entries_diff.clip_lower(0)\n",
    "    df['ENTRIES_DELTA'] = entries_diff\n",
    "    exits_diff = df['EXITS'].diff()\n",
    "    exits_diff = exits_diff.clip_lower(0)\n",
    "    df['EXITS_DELTA'] = exits_diff\n",
    "    df.fillna(0, inplace=True)\n",
    "    \n",
    "    # First entry/exit delta for each day in each station and SCP will be incorrect. Drop these results\n",
    "    # Next, there are chances for spurious deltas if data is not correct, ignore such outliers\n",
    "    print('Removing spurious records')\n",
    "    df = df.groupby(['STATION', 'SCP', 'DATE'], group_keys=False).apply(lambda group: group.iloc[1:])\n",
    "    df = df[df['ENTRIES_DELTA'] < 10000]\n",
    "    df = df[df['EXITS_DELTA'] < 10000]\n",
    "    \n",
    "    #TODO: Write to CSV\n",
    "    # 'abc.csv' -> 'abc_delta_processed.csv'\n",
    "    return df \n",
    "    "
   ]
  },
  {
   "cell_type": "code",
   "execution_count": null,
   "metadata": {
    "collapsed": false
   },
   "outputs": [
    {
     "name": "stdout",
     "output_type": "stream",
     "text": [
      "Cleaning up date time\n",
      "Calculate running delta for entry/exit time\n",
      "Removing spurious records\n"
     ]
    }
   ],
   "source": [
    "turnstile_df = delta_processor('turnstile_180922.txt')"
   ]
  },
  {
   "cell_type": "markdown",
   "metadata": {},
   "source": [
    "## Analysis:"
   ]
  },
  {
   "cell_type": "code",
   "execution_count": null,
   "metadata": {
    "collapsed": true
   },
   "outputs": [],
   "source": [
    "# Print mean number of entries/exits by day\n",
    "turnstile_df.groupby(['DAY'])['ENTRIES_DELTA', 'EXITS_DELTA'].mean()"
   ]
  },
  {
   "cell_type": "code",
   "execution_count": null,
   "metadata": {
    "collapsed": true
   },
   "outputs": [],
   "source": [
    "# Print mean number of entries/exits by hour\n",
    "turnstile_df.groupby(turnstile_df['DATETIME'].dt.hour)['ENTRIES_DELTA', 'EXITS_DELTA'].mean()"
   ]
  }
 ],
 "metadata": {
  "kernelspec": {
   "display_name": "Python 3",
   "language": "python",
   "name": "python3"
  },
  "language_info": {
   "codemirror_mode": {
    "name": "ipython",
    "version": 3
   },
   "file_extension": ".py",
   "mimetype": "text/x-python",
   "name": "python",
   "nbconvert_exporter": "python",
   "pygments_lexer": "ipython3",
   "version": "3.6.0"
  }
 },
 "nbformat": 4,
 "nbformat_minor": 1
}
