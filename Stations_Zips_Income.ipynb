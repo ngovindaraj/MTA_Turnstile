{
 "cells": [
  {
   "cell_type": "markdown",
   "metadata": {},
   "source": [
    "# Code To Scrape Income Per Capita Data"
   ]
  },
  {
   "cell_type": "code",
   "execution_count": 1,
   "metadata": {},
   "outputs": [],
   "source": [
    "#Import Libraries\n",
    "import pandas as pd\n",
    "import numpy as np\n",
    "import requests\n",
    "from bs4 import BeautifulSoup"
   ]
  },
  {
   "cell_type": "code",
   "execution_count": null,
   "metadata": {},
   "outputs": [],
   "source": [
    "#Fetches the income per capita given a zipcode\n",
    "def zipcode_to_capita(zipcode):\n",
    "    url = \"https://www.incomebyzipcode.com/newyork/{}\".format(zipcode)\n",
    "    page = requests.get(url).text\n",
    "    soup = BeautifulSoup(page, features=\"html5lib\")\n",
    "    a = soup.findAll('table',{'class':'table table-responsive'})\n",
    "    income_per_capita = a[2].findAll('td')[0].text\n",
    "    return(int(income_per_capita.strip('$').replace(',', '')))\n"
   ]
  },
  {
   "cell_type": "code",
   "execution_count": null,
   "metadata": {},
   "outputs": [],
   "source": [
    "#Load the dataset that contains data and zipcodes, zipcodes with no data on the webpage are dropped\n",
    "data = pd.read_csv(\"station_zips.csv\")\n",
    "print(\"Page doesn't exist for zipcode:\",data['15'][208])\n",
    "data = data.drop(index=208)\n",
    "print(\"Page doesn't exist for zipcode:\",data['15'][255])\n",
    "data = data.drop(index=255)\n",
    "print(\"Page doesn't exist for zipcode:\",data['15'][323])\n",
    "data = data.drop(index=323)\n",
    "data = data[data['15']!=10120]\n",
    "data = data.reset_index()"
   ]
  },
  {
   "cell_type": "code",
   "execution_count": null,
   "metadata": {},
   "outputs": [],
   "source": [
    "#Populates a column in the data with incomes\n",
    "zips = data['15']\n",
    "incomes = []\n",
    "for index,zipcode in enumerate(zips):\n",
    "    print(\"index: \", index,\"zipcode: \", zipcode)   \n",
    "    incomes.append(zipcode_to_capita(zipcode))\n",
    "data['16'] = incomes"
   ]
  },
  {
   "cell_type": "code",
   "execution_count": null,
   "metadata": {},
   "outputs": [],
   "source": [
    "#Stores the data in a csv file so we don't have to rescrape \n",
    "data_with_incomes.to_csv('data.csv', sep=',', encoding='utf-8')\n",
    "data_with_incomes.head(10)"
   ]
  },
  {
   "cell_type": "code",
   "execution_count": 2,
   "metadata": {},
   "outputs": [
    {
     "name": "stdout",
     "output_type": "stream",
     "text": [
      "{11230: 25068, 11691: 18914, 10462: 23628, 10004: 95707, 11385: 26235, 11375: 45616, 11231: 56806, 10003: 85199, 11208: 17235, 10023: 111473, 11201: 71656, 10029: 27030, 11421: 24385, 11101: 39670, 11221: 22084, 10007: 166343, 11377: 24382, 11220: 17132, 11207: 18401, 10027: 28396, 11232: 22028, 10039: 21880, 10013: 108003, 10036: 77208, 11225: 27054, 11233: 21478, 10017: 103346, 11226: 23110, 11209: 39005, 10455: 12897, 11212: 17064, 11235: 29449, 11215: 64040, 10452: 14136, 10454: 12325, 11211: 35470, 11206: 19071, 11374: 34187, 11216: 32291, 10467: 17484, 10022: 133504, 10469: 23628, 10461: 28443, 10012: 79481, 11223: 23928, 11219: 15183, 11435: 24100, 11418: 22888, 11102: 33318, 11238: 45762, 10044: 49076, 10459: 13167, 11229: 27997, 10032: 20843, 11106: 33951, 11204: 21242, 10453: 12702, 10019: 90151, 10466: 21252, 10128: 92067, 11694: 41019, 10020: 0, 10001: 86347, 10026: 36542, 11217: 61845, 10463: 31875, 11214: 24952, 10031: 24556, 10065: 122657, 10457: 13626, 11222: 43603, 11373: 21017, 11693: 28079, 10028: 108183, 11213: 20401, 11692: 21298, 10472: 14624, 11218: 27647, 10025: 63711, 11368: 16220, 11417: 24586, 11237: 20829, 11224: 23518, 10002: 29666, 10468: 16705, 10035: 20743, 10011: 113379, 10006: 100788, 11432: 22656, 11236: 25876, 10034: 24538, 10033: 24421, 10024: 106735, 10040: 23744, 10018: 81964, 11419: 21095, 10030: 24542, 11104: 34638, 11414: 35737, 10174: 0, 10451: 17663, 11228: 30059, 11103: 35378, 11372: 26735, 10119: 0, 10010: 83240, 10014: 115888, 10460: 13186, 10038: 59706, 10075: 113474, 10458: 15656, 10009: 46499, 10037: 26927, 11205: 27341, 10016: 87451, 11105: 36434, 10470: 29849, 10005: 99511, 11354: 23503, 11210: 26617, 11379: 34291, 11420: 22303}\n"
     ]
    }
   ],
   "source": [
    "#Store data in a dataframe and make a dictionary\n",
    "data_incomes = pd.read_csv(\"zip_income_data.csv\")\n",
    "zipcode_to_income_dict = data_incomes.set_index('15').to_dict()['16']\n",
    "#Store dictionary into a numpy file for easy importing in other files\n",
    "np.save('zipcode_to_income_dict.npy', zipcode_to_income_dict)\n"
   ]
  },
  {
   "cell_type": "code",
   "execution_count": 11,
   "metadata": {},
   "outputs": [
    {
     "name": "stdout",
     "output_type": "stream",
     "text": [
      "There are 122 entries. Example: read_dictionary[10003] = 85199\n"
     ]
    }
   ],
   "source": [
    "#Testing the import of the dictionary\n",
    "read_dictionary = np.load('zipcode_to_income_dict.npy').item()\n",
    "print(\"There are\",len(read_dictionary), \"entries.\", \"Example: read_dictionary[10003] =\",read_dictionary[10003]) # displays an income for testing"
   ]
  },
  {
   "cell_type": "code",
   "execution_count": null,
   "metadata": {},
   "outputs": [],
   "source": []
  }
 ],
 "metadata": {
  "kernelspec": {
   "display_name": "Python 3",
   "language": "python",
   "name": "python3"
  },
  "language_info": {
   "codemirror_mode": {
    "name": "ipython",
    "version": 3
   },
   "file_extension": ".py",
   "mimetype": "text/x-python",
   "name": "python",
   "nbconvert_exporter": "python",
   "pygments_lexer": "ipython3",
   "version": "3.6.5"
  }
 },
 "nbformat": 4,
 "nbformat_minor": 2
}
