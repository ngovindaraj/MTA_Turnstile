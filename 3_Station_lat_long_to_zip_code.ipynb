{
 "cells": [
  {
   "cell_type": "code",
   "execution_count": null,
   "metadata": {},
   "outputs": [],
   "source": [
    "import os\n",
    "import csv\n",
    "import requests\n",
    "import pandas\n",
    "\n",
    "\n",
    "# you won't be able to run this function without the api key in secret.txt on your desktop\n",
    "\n",
    "def get_zip_from_the_goog(latitude,longitude):\n",
    "    \n",
    "    api_key = open('/Desktop/secret.txt','r').read()\n",
    "    url = 'https://maps.googleapis.com/maps/api/geocode/json?latlng={lat},{lon}&key={apikey}'\\\n",
    "        .format(lat=latitude,lon=longitude,apikey=api_key)\n",
    "    pull = requests.get(url)\n",
    "    location_data = pull.json()['results'][0]['address_components']\n",
    "    zip_code = None\n",
    "    for entry in location_data:\n",
    "        if entry['types'] == ['postal_code']: # verification becase the index of the zip changes sometimes!\n",
    "            zip_code = entry['long_name']\n",
    "    return zip_code\n",
    "\n",
    "\n",
    "csvfile = open('StationEntrances.csv', newline='\\n')\n",
    "cr = list(csv.reader(csvfile, delimiter=',', quotechar='|'))[1:] # omit heading row\n",
    "    \n",
    "# store rows as tuples to be immutable in order to later typecast lat_lon_data_raw as a set to remove duplicates\n",
    "lat_lon_data_raw = []\n",
    "for row in cr:\n",
    "    lat_lon_data_raw.append(tuple(row[:15]))\n",
    "\n",
    "# converts tuples back to lists\n",
    "lat_lon_data = []\n",
    "for tup in list(set(lat_lon_data_raw)):\n",
    "    lat_lon_data.append(list(tup))\n",
    "\n",
    "# pass lat and lon to google api, append returned zip code to end of each row in lat_lon_data\n",
    "for n, station in enumerate(lat_lon_data):\n",
    "    zip_code = get_zip_from_the_goog(station[3],station[4])\n",
    "    lat_lon_data[n].append(zip_code)\n",
    "\n",
    "\n",
    "df = pandas.DataFrame(lat_lon_data)\n",
    "df.to_csv('station_zips.csv')\n",
    "\n",
    "\n",
    "\n",
    "\n"
   ]
  }
 ],
 "metadata": {
  "kernelspec": {
   "display_name": "Python 3",
   "language": "python",
   "name": "python3"
  },
  "language_info": {
   "codemirror_mode": {
    "name": "ipython",
    "version": 3
   },
   "file_extension": ".py",
   "mimetype": "text/x-python",
   "name": "python",
   "nbconvert_exporter": "python",
   "pygments_lexer": "ipython3",
   "version": "3.6.6"
  }
 },
 "nbformat": 4,
 "nbformat_minor": 2
}
