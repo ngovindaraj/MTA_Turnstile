{
 "cells": [
  {
   "cell_type": "markdown",
   "metadata": {},
   "source": [
    "# Webscraping the MTA dataset and appending multiple dataframes\n",
    "\n",
    "This Notebook shows the code used in the MTA data analysis.\n",
    "\n",
    "Group: Danny, Navina, John, Kevin"
   ]
  },
  {
   "cell_type": "markdown",
   "metadata": {},
   "source": [
    "Import Libraries"
   ]
  },
  {
   "cell_type": "code",
   "execution_count": 1,
   "metadata": {},
   "outputs": [],
   "source": [
    "from bs4 import BeautifulSoup\n",
    "import requests\n",
    "import pprint\n"
   ]
  },
  {
   "cell_type": "markdown",
   "metadata": {},
   "source": [
    "Create an array of urls"
   ]
  },
  {
   "cell_type": "code",
   "execution_count": 3,
   "metadata": {},
   "outputs": [
    {
     "name": "stdout",
     "output_type": "stream",
     "text": [
      "[['http://web.mta.info/developers/data/nyct/turnstile/turnstile_180922.txt'],\n",
      " ['http://web.mta.info/developers/data/nyct/turnstile/turnstile_180915.txt'],\n",
      " ['http://web.mta.info/developers/data/nyct/turnstile/turnstile_180908.txt'],\n",
      " ['http://web.mta.info/developers/data/nyct/turnstile/turnstile_180901.txt'],\n",
      " ['http://web.mta.info/developers/data/nyct/turnstile/turnstile_180825.txt'],\n",
      " ['http://web.mta.info/developers/data/nyct/turnstile/turnstile_180818.txt'],\n",
      " ['http://web.mta.info/developers/data/nyct/turnstile/turnstile_180811.txt'],\n",
      " ['http://web.mta.info/developers/data/nyct/turnstile/turnstile_180804.txt'],\n",
      " ['http://web.mta.info/developers/data/nyct/turnstile/turnstile_180728.txt']]\n"
     ]
    }
   ],
   "source": [
    "url = \"http://web.mta.info/developers/turnstile.html\"\n",
    "page = requests.get(url).text\n",
    "soup = BeautifulSoup(page, features=\"html5lib\")\n",
    "urls = []\n",
    "\n",
    "for a in soup.find_all('a', href=True):\n",
    "    urls.append([\"http://web.mta.info/developers/\" + a['href']])\n",
    "\n",
    "urls = urls[35:44]\n",
    "\n",
    "pprint.pprint(urls)"
   ]
  },
  {
   "cell_type": "markdown",
   "metadata": {},
   "source": [
    "If the urls are saved to a file, we can import them with the following code:"
   ]
  },
  {
   "cell_type": "code",
   "execution_count": null,
   "metadata": {},
   "outputs": [],
   "source": [
    "'''\n",
    "with open('MTA_urls.txt', 'w') as file_handler:\n",
    "    for item in urls:\n",
    "        file_handler.write(\"{}\\n\".format(item[0]))\n",
    "'''"
   ]
  },
  {
   "cell_type": "markdown",
   "metadata": {},
   "source": [
    "Read the data and append together"
   ]
  },
  {
   "cell_type": "code",
   "execution_count": null,
   "metadata": {},
   "outputs": [],
   "source": [
    "for url in urls:\n",
    "    page = requests.get(url).text\n",
    "    new_df = pd.read_csv(url, sep='\\n')\n",
    "    MTA_df = pd.concat([MTA_df, new_df])\n",
    "    \n",
    "print(MTA_df.describe())"
   ]
  },
  {
   "cell_type": "markdown",
   "metadata": {},
   "source": [
    "Uncomment to save the data to a file. It is ~200Mb in size."
   ]
  },
  {
   "cell_type": "code",
   "execution_count": null,
   "metadata": {},
   "outputs": [],
   "source": [
    "#MTA_df.to_csv(r'MTA_all_data.csv', index=None, sep=' ', mode='a')"
   ]
  },
  {
   "cell_type": "markdown",
   "metadata": {},
   "source": [
    "# Warning!! Problematic commas in the file, please run the following on the command line"
   ]
  },
  {
   "cell_type": "markdown",
   "metadata": {},
   "source": [
    "In terminal: sed -i -e 's/\"$//'  MTA_all_data.csv"
   ]
  }
 ],
 "metadata": {
  "kernelspec": {
   "display_name": "Python 3",
   "language": "python",
   "name": "python3"
  },
  "language_info": {
   "codemirror_mode": {
    "name": "ipython",
    "version": 3
   },
   "file_extension": ".py",
   "mimetype": "text/x-python",
   "name": "python",
   "nbconvert_exporter": "python",
   "pygments_lexer": "ipython3",
   "version": "3.6.5"
  }
 },
 "nbformat": 4,
 "nbformat_minor": 2
}
