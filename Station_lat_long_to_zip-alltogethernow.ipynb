{
 "cells": [
  {
   "cell_type": "code",
   "execution_count": null,
   "metadata": {},
   "outputs": [],
   "source": [
    "import os\n",
    "import csv\n",
    "import requests\n",
    "\n",
    "\n",
    "\n",
    "# you guys won't be able to run this function because it reads the api key from my desktop\n",
    "\n",
    "def get_zip_from_the_goog(latitude,longitude):\n",
    "    \n",
    "    api_key = open('/Users/grazillionaire/Desktop/secret.txt','r').read()\n",
    "    url = 'https://maps.googleapis.com/maps/api/geocode/json?latlng={lat},{lon}&key={apikey}'\\\n",
    "        .format(lat=latitude,lon=longitude,apikey=api_key)\n",
    "    pull = requests.get(url)\n",
    "    location_data = pull.json()['results'][0]['address_components']\n",
    "    zip_code = None\n",
    "    for entry in location_data:\n",
    "        if entry['types'] == ['postal_code']: # verification becase the index of the zip changes sometimes!\n",
    "            zip_code = entry['long_name']\n",
    "    return zip_code\n",
    "\n",
    "\n",
    "\n",
    "# os.getcwd() # this returns the current working directory\n",
    "# it would be nice to get our folder hierarchy sorted out tomorrow\n",
    "# or maybe there's some dynamic directory solution that will work on anyone's computer\n",
    "\n",
    "csvfile = open('/Users/grazillionaire/ds/metis/sf18_ds12/projects/01-benson/StationEntrances.csv', newline='\\n')\n",
    "cr = list(csv.reader(csvfile, delimiter=',', quotechar='|'))[1:] # omit heading row\n",
    "    \n",
    "# store rows as tuples to be immutable in order to later typecast lat_lon_data_raw as a set to remove duplicates\n",
    "lat_lon_data_raw = []\n",
    "for row in cr:\n",
    "    lat_lon_data_raw.append(tuple(row[:15]))\n",
    "\n",
    "lat_lon_data = []\n",
    "for tup in list(set(lat_lon_data_raw)):\n",
    "    lat_lon_data.append(list(tup))\n",
    "\n",
    "print(lat_lon_data)\n",
    "    \n",
    "#print(len(lat_lon_data)) # 476 rows\n",
    "#print(sorted(lat_lon_data, key=lambda station: station[2]))\n",
    "\n",
    "\n",
    "for n, station in enumerate(lat_lon_data):\n",
    "    zip_code = get_zip_from_the_goog(station[3],station[4])\n",
    "    lat_lon_data[n].append(zip_code)\n",
    "    \n",
    "\n",
    "for row in lat_lon_data:\n",
    "    print(row)\n",
    "    \n",
    "\n"
   ]
  }
 ],
 "metadata": {
  "kernelspec": {
   "display_name": "Python 3",
   "language": "python",
   "name": "python3"
  },
  "language_info": {
   "codemirror_mode": {
    "name": "ipython",
    "version": 3
   },
   "file_extension": ".py",
   "mimetype": "text/x-python",
   "name": "python",
   "nbconvert_exporter": "python",
   "pygments_lexer": "ipython3",
   "version": "3.6.6"
  }
 },
 "nbformat": 4,
 "nbformat_minor": 2
}
