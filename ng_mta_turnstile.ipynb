{
 "cells": [
  {
   "cell_type": "markdown",
   "metadata": {},
   "source": [
    "# NYC MTA Turnstile Dataset Cleanup & EDA"
   ]
  },
  {
   "cell_type": "markdown",
   "metadata": {},
   "source": [
    "### I) Setting Up"
   ]
  },
  {
   "cell_type": "code",
   "execution_count": 2,
   "metadata": {},
   "outputs": [
    {
     "name": "stdout",
     "output_type": "stream",
     "text": [
      "Populating the interactive namespace from numpy and matplotlib\n"
     ]
    }
   ],
   "source": [
    "from IPython.display import display\n",
    "import warnings\n",
    "warnings.filterwarnings('ignore')\n",
    "import pandas as pd\n",
    "import numpy as np\n",
    "\n",
    "import matplotlib.pyplot as plt\n",
    "import seaborn as sns\n",
    "sns.set_style(\"whitegrid\")\n",
    "%pylab inline"
   ]
  },
  {
   "cell_type": "code",
   "execution_count": 9,
   "metadata": {},
   "outputs": [],
   "source": [
    "# Read csv file as a pandas df\n",
    "# Source - http://web.mta.info/developers/data/nyct/turnstile/turnstile_180922.txt\n",
    "# Source description - http://web.mta.info/developers/resources/nyct/turnstile/ts_Field_Description.txt\n",
    "turnstile_df = pd.read_csv('turnstile_180922.txt')\n",
    "# Source - http://web.mta.info/developers/data/nyct/subway/StationEntrances.csv\n",
    "station_entrances_df = pd.read_csv('station_entrances.csv')\n"
   ]
  },
  {
   "cell_type": "code",
   "execution_count": 11,
   "metadata": {},
   "outputs": [
    {
     "name": "stdout",
     "output_type": "stream",
     "text": [
      "Index(['C/A', 'UNIT', 'SCP', 'STATION', 'LINENAME', 'DIVISION', 'DATE', 'TIME',\n",
      "       'DESC', 'ENTRIES',\n",
      "       'EXITS                                                               '],\n",
      "      dtype='object')\n",
      "Index(['Division', 'Line', 'Station_Name', 'Station_Latitude',\n",
      "       'Station_Longitude', 'Route_1', 'Route_2', 'Route_3', 'Route_4',\n",
      "       'Route_5', 'Route_6', 'Route_7', 'Route_8', 'Route_9', 'Route_10',\n",
      "       'Route_11', 'Entrance_Type', 'Entry', 'Exit_Only', 'Vending',\n",
      "       'Staffing', 'Staff_Hours', 'ADA', 'ADA_Notes', 'Free_Crossover',\n",
      "       'North_South_Street', 'East_West_Street', 'Corner', 'Latitude',\n",
      "       'Longitude'],\n",
      "      dtype='object')\n"
     ]
    }
   ],
   "source": [
    "print(turnstile_df.columns)\n",
    "print(station_entrances_df.columns)"
   ]
  },
  {
   "cell_type": "markdown",
   "metadata": {},
   "source": [
    "### II)  EDA"
   ]
  },
  {
   "cell_type": "code",
   "execution_count": 32,
   "metadata": {},
   "outputs": [
    {
     "name": "stdout",
     "output_type": "stream",
     "text": [
      "['1 AV', '103 ST', '103 ST-CORONA', '104 ST', '110 ST', '111 ST', '116 ST', '116 ST-COLUMBIA', '121 ST', '125 ST', '135 ST', '137 ST CITY COL', '138/GRAND CONC', '14 ST', '14 ST-UNION SQ', '145 ST', '149/GRAND CONC', '14TH STREET', '15 ST-PROSPECT', '155 ST', '157 ST', '161/YANKEE STAD', '167 ST', '168 ST', '169 ST', '170 ST', '174 ST', '175 ST', '176 ST', '18 AV', '18 ST', '181 ST', '182-183 STS', '183 ST', '190 ST', '191 ST', '2 AV', '20 AV', '207 ST', '21 ST', '21 ST-QNSBRIDGE', '215 ST', '219 ST', '225 ST', '23 ST', '231 ST', '233 ST', '238 ST', '25 AV', '25 ST', '28 ST', '3 AV', '3 AV 138 ST', '3 AV-149 ST', '30 AV', '33 ST', '33 ST-RAWSON ST', '34 ST-HERALD SQ', '34 ST-HUDSON YD', '34 ST-PENN STA', '36 AV', '36 ST', '4 AV-9 ST', '40 ST LOWERY ST', '42 ST-BRYANT PK', '42 ST-PORT AUTH', '45 ST', '46 ST', '46 ST BLISS ST', '47-50 STS ROCK', '49 ST', '4AV-9 ST', '5 AV/53 ST', '5 AV/59 ST', '5 AVE', '50 ST', '51 ST', '52 ST', '53 ST', '55 ST', '57 ST-7 AV', '59 ST', '59 ST COLUMBUS', '6 AV', '61 ST WOODSIDE', '63 DR-REGO PARK', '65 ST', '66 ST-LINCOLN', '67 AV', '68ST-HUNTER CO', '69 ST', '7 AV', '71 ST', '72 ST', '72 ST-2 AVE', '74 ST-BROADWAY', '75 AV', '75 ST-ELDERTS', '77 ST', '79 ST', '8 AV', '8 ST-NYU', '80 ST', '81 ST-MUSEUM', '82 ST-JACKSON H', '85 ST-FOREST PK', '86 ST', '86 ST-2 AVE', '88 ST', '9 AV', '90 ST-ELMHURST', '96 ST', '96 ST-2 AVE', '9TH STREET', 'ALABAMA AV', 'ALLERTON AV', 'AQUEDUCT N.COND', 'AQUEDUCT RACETR', 'ASTOR PL', 'ASTORIA BLVD', 'ASTORIA DITMARS', 'ATL AV-BARCLAY', 'ATLANTIC AV', 'AVENUE H', 'AVENUE I', 'AVENUE J', 'AVENUE M', 'AVENUE N', 'AVENUE P', 'AVENUE U', 'AVENUE X', \"B'WAY-LAFAYETTE\", 'BAY 50 ST', 'BAY PKWY', 'BAY RIDGE AV', 'BAY RIDGE-95 ST', 'BAYCHESTER AV', 'BEACH 105 ST', 'BEACH 25 ST', 'BEACH 36 ST', 'BEACH 44 ST', 'BEACH 60 ST', 'BEACH 67 ST', 'BEACH 90 ST', 'BEACH 98 ST', 'BEDFORD AV', 'BEDFORD PK BLVD', 'BEDFORD-NOSTRAN', 'BERGEN ST', 'BEVERLEY ROAD', 'BEVERLY RD', 'BLEECKER ST', 'BOROUGH HALL', 'BOTANIC GARDEN', 'BOWERY', 'BOWLING GREEN', 'BRIARWOOD', 'BRIGHTON BEACH', 'BROAD CHANNEL', 'BROAD ST', 'BROADWAY', 'BROADWAY JCT', 'BRONX PARK EAST', 'BROOK AV', 'BROOKLYN BRIDGE', 'BUHRE AV', 'BURKE AV', 'BURNSIDE AV', 'BUSHWICK AV', 'CANAL ST', 'CANARSIE-ROCKAW', 'CARROLL ST', 'CASTLE HILL AV', 'CATHEDRAL PKWY', 'CENTRAL AV', 'CENTRAL PK N110', 'CHAMBERS ST', 'CHAUNCEY ST', 'CHRISTOPHER ST', 'CHURCH AV', 'CITY / BUS', 'CITY HALL', 'CLARK ST', 'CLASSON AV', 'CLEVELAND ST', 'CLINTON-WASH AV', 'CONEY IS-STILLW', 'CORTELYOU RD', 'CORTLANDT ST', 'COURT SQ', 'COURT SQ-23 ST', 'CRESCENT ST', 'CROWN HTS-UTICA', 'CYPRESS AV', 'CYPRESS HILLS', 'DEKALB AV', 'DELANCEY/ESSEX', 'DITMAS AV', 'DYCKMAN ST', \"E 143/ST MARY'S\", 'E 149 ST', 'E 180 ST', 'EAST 105 ST', 'EAST BROADWAY', 'EASTCHSTER/DYRE', 'EASTN PKWY-MUSM', 'ELDER AV', 'ELMHURST AV', 'EUCLID AV', 'EXCHANGE PLACE', 'FAR ROCKAWAY', 'FLATBUSH AV-B.C', 'FLUSHING AV', 'FLUSHING-MAIN', 'FORDHAM RD', 'FOREST AVE', 'FOREST HILLS 71', 'FRANKLIN AV', 'FRANKLIN ST', 'FREEMAN ST', 'FRESH POND RD', 'FT HAMILTON PKY', 'FULTON ST', 'GATES AV', 'GRAHAM AV', 'GRAND ARMY PLAZ', 'GRAND ST', 'GRAND-NEWTOWN', 'GRANT AV', 'GRD CNTRL-42 ST', 'GREENPOINT AV', 'GROVE STREET', 'GUN HILL RD', 'HALSEY ST', 'HARLEM 148 ST', 'HARRISON', 'HEWES ST', 'HIGH ST', 'HOUSTON ST', 'HOWARD BCH JFK', 'HOYT ST', 'HOYT-SCHER', 'HUNTERS PT AV', 'HUNTS POINT AV', 'INTERVALE AV', 'INWOOD-207 ST', 'JACKSON AV', 'JAMAICA 179 ST', 'JAMAICA CENTER', 'JAMAICA VAN WK', 'JAY ST-METROTEC', 'JEFFERSON ST', 'JFK JAMAICA CT1', 'JKSN HT-ROOSVLT', 'JOURNAL SQUARE', 'JUNCTION BLVD', 'JUNIUS ST', 'KEW GARDENS', 'KINGS HWY', 'KINGSBRIDGE RD', 'KINGSTON AV', 'KINGSTON-THROOP', 'KNICKERBOCKER', 'KOSCIUSZKO ST', 'LACKAWANNA', 'LAFAYETTE AV', 'LEXINGTON AV/53', 'LEXINGTON AV/63', 'LIBERTY AV', 'LIVONIA AV', 'LONGWOOD AV', 'LORIMER ST', 'MARBLE HILL-225', 'MARCY AV', 'METROPOLITAN AV', 'METS-WILLETS PT', 'MIDDLETOWN RD', 'MONTROSE AV', 'MORGAN AV', 'MORISN AV/SNDVW', 'MORRIS PARK', 'MOSHOLU PKWY', 'MT EDEN AV', 'MYRTLE AV', 'MYRTLE-WILLOUGH', 'MYRTLE-WYCKOFF', 'NASSAU AV', 'NECK RD', 'NEPTUNE AV', 'NEREID AV', 'NEVINS ST', 'NEW LOTS', 'NEW LOTS AV', 'NEW UTRECHT AV', 'NEWARK BM BW', 'NEWARK C', 'NEWARK HM HE', 'NEWARK HW BMEBE', 'NEWKIRK AV', 'NEWKIRK PLAZA', 'NORTHERN BLVD', 'NORWOOD 205 ST', 'NORWOOD AV', 'NOSTRAND AV', 'OCEAN PKWY', 'ORCHARD BEACH', 'OZONE PK LEFFRT', 'PARK PLACE', 'PARKCHESTER', 'PARKSIDE AV', 'PARSONS BLVD', 'PATH NEW WTC', 'PATH WTC 2', 'PAVONIA/NEWPORT', 'PELHAM BAY PARK', 'PELHAM PKWY', 'PENNSYLVANIA AV', 'PRESIDENT ST', 'PRINCE ST', 'PROSPECT AV', 'PROSPECT PARK', 'QUEENS PLAZA', 'QUEENSBORO PLZ', 'RALPH AV', 'RECTOR ST', 'RIT-MANHATTAN', 'RIT-ROOSEVELT', 'ROCKAWAY AV', 'ROCKAWAY BLVD', 'ROCKAWAY PARK B', 'ROOSEVELT ISLND', 'SARATOGA AV', 'SENECA AVE', 'SHEEPSHEAD BAY', 'SHEPHERD AV', 'SIMPSON ST', 'SMITH-9 ST', 'SOUTH FERRY', 'SPRING ST', 'ST LAWRENCE AV', 'ST. GEORGE', 'STEINWAY ST', 'STERLING ST', 'SUTPHIN BLVD', 'SUTPHIN-ARCHER', 'SUTTER AV', 'SUTTER AV-RUTLD', 'THIRTY ST', 'THIRTY THIRD ST', 'TIMES SQ-42 ST', 'TOMPKINSVILLE', 'TREMONT AV', 'TWENTY THIRD ST', 'UNION ST', 'UTICA AV', 'V.CORTLANDT PK', 'VAN SICLEN AV', 'VAN SICLEN AVE', 'VERNON-JACKSON', 'W 4 ST-WASH SQ', 'W 8 ST-AQUARIUM', 'WAKEFIELD/241', 'WALL ST', 'WEST FARMS SQ', 'WESTCHESTER SQ', 'WHITEHALL S-FRY', 'WHITLOCK AV', 'WILSON AV', 'WINTHROP ST', 'WOODHAVEN BLVD', 'WOODLAWN', 'WORLD TRADE CTR', 'YORK ST', 'ZEREGA AV']\n",
      "['103rd St', '104th St-102nd St', '104th St-Oxford Av', '110th St', '110th St-Central Park North', '111th St', '111th St-Greenwood Av', '116th St', '116th St-Columbia University', '121st St', '125th St', '135th St', '137th St-City College', '138th St', '138th St-3rd Ave', '145th St', '149th St-3rd Av', '149th St-Grand Concourse', '14th St', '14th St-Union Square', '155th St', '157th St', '163rd St - Amsterdam Av', '167th St', '168th St', '168th St - Washington Heights', '169th St', '170th St', '174-175th Sts', '174th St', '175th St', '176th St', '181st St', '182nd-183rd Sts', '183rd St', '18th Av', '18th St', '190th St', '191st St', '1st Av', '207th St', '20th Av', '215th St', '219th St', '21st St', '225th St', '231st St', '233rd St', '238th St', '238th St-Nereid Av', '23rd St', '23rd St-Ely Av', '25th Av', '25th St', '28th St', '2nd Av', '30 Av-Grand Av', '33rd St', '34th St', '36 Av-Washington Av', '36th St', '39 Av-Beebe Av', '3rd Av', '42nd St', '45 Rd-Court House Sq', '45th St', '46th St', '47-50th Sts Rockefeller Center', '49th St', '4th Av', '50th St', '51st St', '53rd St', '55th St', '57th St', '59th St', '59th St-Columbus Circle', '5th Av', '5th Av-53rd St', '62nd St', '63rd Drive-Rego Park', '65th St', '66th St-Lincoln Center', '67th Av', '68th St-Hunter College', '6th Av', '71st St', '72nd St', '75th Av', '77th St', '79th St', '7th Av', '80th St-Hudson St', '81st St - Museum of Natural History', '82nd St-Jackson Heights', '86th St', '88th St-Boyd Av', '8th Av', '8th St', '90th St Elmhurst', '95th St', '96th St', '9th Av', '9th St', 'Alabama Av', 'Allerton Av', 'Aqueduct Racetrack', 'Aqueduct-North Conduit Av', 'Astor Place', 'Astoria Blvd-Hoyt Av', 'Atlantic Av', 'Atlantic Av-Barclays Ctr', 'Av H', 'Av I', 'Av J', 'Av M', 'Av N', 'Av P', 'Av U', 'Av X', 'Bay 50th St', 'Bay Parkway', 'Bay Parkway-22nd Av', 'Bay Ridge Av', 'Baychester Av', 'Beach 105th St', 'Beach 25th St', 'Beach 36th St', 'Beach 44th St', 'Beach 60th St', 'Beach 67th St', 'Beach 90th St', 'Beach 98th St', 'Bedford Av', 'Bedford Park Blvd', 'Bedford Park Blvd-Lehman College', 'Bedford-Nostrand Avs', 'Bergen St', 'Beverly Rd', 'Bleecker St', 'Bliss St-46th St', 'Borough Hall', 'Botanic Gardens', 'Bowery', 'Bowling Green', 'Briarwood-Van Wyck Blvd', 'Brighton Beach', 'Broad Channel', 'Broad St', 'Broadway', 'Broadway Junction-East New York', 'Broadway-74th St', 'Broadway-Lafayette St', 'Broadway-Nassau', 'Bronx Park East', 'Brook Av', 'Brooklyn Bridge-City Hall', 'Buhre Av', 'Burke Av', 'Burnside Av', 'Bushwick Av', 'Canal St', 'Canal St (UL)', 'Canarsie - Rockaway Parkway', 'Carroll St', 'Castle Hill Av', 'Cathedral Parkway-110th St', 'Central Av', 'Chambers St', 'Chauncey St', 'Christopher St', 'Church Av', 'City Hall', 'Clark St', 'Classon Av', 'Cleveland St', 'Clinton & Washington Avs', 'Clinton-Washington Avs', 'Cortelyou Rd', 'Cortlandt St', 'Court St', 'Crescent St', 'Cypress Av', 'Cypress Hills', 'DeKalb Av', 'Delancey St', 'Ditmars Blvd', 'Ditmas Av', 'Dyckman St', 'Dyckman St-200th St', 'East 105th St', \"East 143rd St-St Mary's St\", 'East 149th St', 'East 180th St', 'East Broadway', 'East Tremont Av-West Farms Sq', 'Eastchester-Dyre Av', 'Eastern Parkway-Brooklyn Museum', 'Elder Av', 'Elderts Lane-75th St', 'Elmhurst Av', 'Essex St', 'Euclid Av', 'Far Rockaway-Mott Av', 'Fisk Av-69th St', 'Flatbush Av-Brooklyn College', 'Flushing Av', 'Flushing-Main St', 'Fordham Rd', 'Forest Av', 'Forest Hills-71st Av', 'Forest Parkway-85th St', 'Fort Hamilton Parkway', 'Franklin Av', 'Franklin St', 'Freeman St', 'Fresh Pond Rd', 'Fulton St', 'Gates Av', 'Graham Av', 'Grand Army Plaza', 'Grand Av-Newtown', 'Grand Central', 'Grand Central-42nd St', 'Grand St', 'Grant Av', 'Greenpoint Av', 'Gun Hill Rd', 'Halsey St', 'Harlem-148th St', 'Hewes St', 'High St', 'Houston St', 'Howard Beach', 'Hoyt & Schermerhorn', 'Hoyt St', 'Hunters Point', 'Hunts Point Av', 'Intervale Av', 'Inwood - 207th St', 'Jackson Av', 'Jackson Heights-Roosevelt Ave', 'Jamaica-179th St', 'Jamaica-Van Wyck', 'Jay St - Borough Hall', 'Jefferson St', 'Junction Blvd', 'Junius St', 'Kew Gardens-Union Turnpike', 'Kings Highway', 'Kingsbridge Rd', 'Kingston Av', 'Kingston-Throop', 'Knickerbocker Av', 'Kosciusko St', 'Lafayette Av', 'Lawrence St', 'Lefferts Blvd', 'Lexington Av', 'Lexington Av-53rd St', 'Liberty Av', 'Lincoln Av-52nd St', 'Livonia Av', 'Long Island City-Court Square', 'Longwood Av', 'Lorimer St', 'Lowery St-40th St', 'Marble Hill-225th St', 'Marcy Av', 'Metropolitan Av', 'Mets - Willets Point', 'Middletown Rd', 'Montrose Av', 'Morgan Av', 'Morris Park', 'Morrison Av-Soundview Av', 'Mosholu Parkway', 'Mt Eden Av', 'Myrtle Av', 'Myrtle-Willoughby Avs', 'Nassau Av', 'Neck Rd', 'Neptune Av-Van Siclen', 'Nevins St', 'New Lots Av', 'New Utrecht Av', 'Newkirk Av', 'Northern Blvd', 'Norwood Av', 'Norwood-205th St', 'Nostrand Av', 'Ocean Parkway', 'Pacific St', 'Park Place', 'Parkchester-East 177th St', 'Parkside Av', 'Parsons Blvd', 'Parsons Blvd-Archer Av - Jamaica Center', 'Pelham Bay Park', 'Pelham Parkway', 'Pennsylvania Av', 'President St', 'Prince St', 'Prospect Av', 'Prospect Park', 'Prospect Park-15 St', 'Queens Plaza', 'Queensboro Plaza', 'Ralph Av', 'Rawson St-33rd St', 'Rector St', 'Rockaway Av', 'Rockaway Blvd', 'Rockaway Park-Beach 116th', 'Roosevelt Island', 'Saratoga Av', 'Seneca Av', 'Sheepshead Bay', 'Shepherd Av', 'Simpson St', 'Smith-9th St', 'South Ferry', 'Spring St', 'St Lawrence Av', 'Steinway St', 'Sterling St', 'Stillwell Av', 'Sutphin Blvd', 'Sutphin Blvd-Archer Av - JFK', 'Sutter Av', 'Times Square', 'Times Square-42nd St', 'Tremont Av', 'Union Square', 'Union St', 'Utica Av', 'Van Cortlandt Park-242nd St', 'Van Siclen Av', 'Vernon Blvd-Jackson Av', 'Wakefield-241st St', 'Wall St', 'West 4th St', 'West 8th St', 'Westchester Square-East Tremont Av', 'Whitehall St', 'Whitlock Av', 'Wilson Av', 'Winthrop St', 'Woodhaven Blvd', 'Woodlawn', 'Woodside Av-61st St', 'World Trade Center', 'Yankee Stadium-161st St', 'York St', 'Zerega Av']\n"
     ]
    }
   ],
   "source": [
    "print(sorted(turnstile_df['STATION'].unique()))\n",
    "print(sorted(station_entrances_df['Station_Name'].unique()))\n",
    "# len(list(set(turnstile_df['STATION'].str.upper()) & set(station_entrances_df['Station_Name'].str.upper())))"
   ]
  }
 ],
 "metadata": {
  "kernelspec": {
   "display_name": "Python 3",
   "language": "python",
   "name": "python3"
  },
  "language_info": {
   "codemirror_mode": {
    "name": "ipython",
    "version": 3
   },
   "file_extension": ".py",
   "mimetype": "text/x-python",
   "name": "python",
   "nbconvert_exporter": "python",
   "pygments_lexer": "ipython3",
   "version": "3.6.2"
  }
 },
 "nbformat": 4,
 "nbformat_minor": 1
}
