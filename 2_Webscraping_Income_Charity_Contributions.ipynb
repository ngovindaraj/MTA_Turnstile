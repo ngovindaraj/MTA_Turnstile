{
 "cells": [
  {
   "cell_type": "markdown",
   "metadata": {},
   "source": [
    "# Webscraping Income and Charity Contribution Data In NY By Zipcode\n",
    "\n",
    " This Notebook shows the code used in the MTA data analysis.\n",
    " \n",
    " Group: Danny, Navina, John, Kevin "
   ]
  },
  {
   "cell_type": "markdown",
   "metadata": {},
   "source": [
    "## Pt 1: Code To Scrape \"Income Per Capita\" Data"
   ]
  },
  {
   "cell_type": "markdown",
   "metadata": {},
   "source": [
    "Import Libraries"
   ]
  },
  {
   "cell_type": "code",
   "execution_count": null,
   "metadata": {},
   "outputs": [],
   "source": [
    "import pandas as pd\n",
    "import numpy as np\n",
    "import requests\n",
    "import re\n",
    "from bs4 import BeautifulSoup"
   ]
  },
  {
   "cell_type": "markdown",
   "metadata": {},
   "source": [
    "Fetches the income per capita given a zipcode"
   ]
  },
  {
   "cell_type": "code",
   "execution_count": null,
   "metadata": {},
   "outputs": [],
   "source": [
    "def zipcode_to_capita(zipcode):\n",
    "    url = \"https://www.incomebyzipcode.com/newyork/{}\".format(zipcode)\n",
    "    page = requests.get(url).text\n",
    "    soup = BeautifulSoup(page, features=\"html5lib\")\n",
    "    a = soup.findAll('table',{'class':'table table-responsive'})\n",
    "    income_per_capita = a[2].findAll('td')[0].text\n",
    "    return(int(income_per_capita.strip('$').replace(',', '')))"
   ]
  },
  {
   "cell_type": "markdown",
   "metadata": {},
   "source": [
    "Load the dataset that contains zipcodes, zipcodes with no data on the webpage are dropped"
   ]
  },
  {
   "cell_type": "code",
   "execution_count": null,
   "metadata": {},
   "outputs": [],
   "source": [
    "data = pd.read_csv(\"station_zips.csv\")\n",
    "data = data.drop(index=208)\n",
    "data = data.drop(index=255)\n",
    "data = data.drop(index=323)\n",
    "data = data.reset_index()\n",
    "data.head()"
   ]
  },
  {
   "cell_type": "markdown",
   "metadata": {},
   "source": [
    "Populates a column in the data with incomes"
   ]
  },
  {
   "cell_type": "code",
   "execution_count": null,
   "metadata": {
    "scrolled": true
   },
   "outputs": [],
   "source": [
    "zips = data['zip']\n",
    "incomes = []\n",
    "for index,zipcode in enumerate(zips[:5]):\n",
    "    print(\"index: \", index,\"zipcode: \", zipcode)   \n",
    "    incomes.append(zipcode_to_capita(zipcode))\n",
    "data['incomes'] = incomes\n",
    "data_incomes = data"
   ]
  },
  {
   "cell_type": "markdown",
   "metadata": {},
   "source": [
    "Option 1: Code to store data in a dataframe "
   ]
  },
  {
   "cell_type": "code",
   "execution_count": null,
   "metadata": {},
   "outputs": [],
   "source": [
    "#data_with_incomes.to_csv('data_income_data.csv', sep=',', encoding='utf-8')\n",
    "#data_with_incomes.head(10)"
   ]
  },
  {
   "cell_type": "markdown",
   "metadata": {},
   "source": [
    "Option 2: Creating dictionary for fast access, better option. Will be used for charity as well\n"
   ]
  },
  {
   "cell_type": "code",
   "execution_count": null,
   "metadata": {},
   "outputs": [],
   "source": [
    "#data_incomes = pd.read_csv(\"zip_income_data.csv\")\n",
    "zipcode_to_income_dict = data_incomes.set_index('zip').to_dict()['incomes']"
   ]
  },
  {
   "cell_type": "markdown",
   "metadata": {},
   "source": [
    "Using neighboring zipcodes for those with empty entries\n"
   ]
  },
  {
   "cell_type": "code",
   "execution_count": null,
   "metadata": {},
   "outputs": [],
   "source": [
    "zipcode_to_income_dict[10119] = 86347\n",
    "zipcode_to_income_dict[10020] = 90151"
   ]
  },
  {
   "cell_type": "markdown",
   "metadata": {},
   "source": [
    "Store dictionary into a numpy file for easy importing in other files"
   ]
  },
  {
   "cell_type": "code",
   "execution_count": null,
   "metadata": {},
   "outputs": [],
   "source": [
    "np.save('zipcode_to_income_dict.npy', zipcode_to_income_dict)"
   ]
  },
  {
   "cell_type": "markdown",
   "metadata": {},
   "source": [
    "## Pt 2: Code To Scrape \"Charity Contributions\" Data"
   ]
  },
  {
   "cell_type": "code",
   "execution_count": null,
   "metadata": {},
   "outputs": [],
   "source": [
    "def zipcode_to_charity(zipcode):   \n",
    "    url = \"http://www.city-data.com/zips/{}.html\".format(zipcode)\n",
    "    page = requests.get(url).text\n",
    "    soup = BeautifulSoup(page, features=\"html5lib\")\n",
    "    b = soup.findAll('div',{'class':'hgraph'})\n",
    "    str1 = str(b[15])\n",
    "    charity_contribution = re.findall(r\"\\$[^ ]+\", str1)[0].split('<')[0]\n",
    "    return(int(charity_contribution.strip('$').replace(',', '')))\n",
    "   "
   ]
  },
  {
   "cell_type": "markdown",
   "metadata": {},
   "source": [
    "Load the dataset that contains data and zipcodes, zipcodes with no data on the webpage are dropped"
   ]
  },
  {
   "cell_type": "code",
   "execution_count": null,
   "metadata": {},
   "outputs": [],
   "source": [
    "data = pd.read_csv(\"station_zips.csv\")"
   ]
  },
  {
   "cell_type": "markdown",
   "metadata": {},
   "source": [
    "Populates a column in the data with incomes\n"
   ]
  },
  {
   "cell_type": "code",
   "execution_count": null,
   "metadata": {},
   "outputs": [],
   "source": [
    "zips = data['zip']\n",
    "charity_num = []\n",
    "for index,zipcode in enumerate(zips[5:]):\n",
    "        print(\"index: \", index,\"zipcode: \", zipcode)   \n",
    "        charity_num.append(zipcode_to_charity(zipcode))\n",
    "        print(charity_num[index])\n",
    "data['charity'] = charity_num"
   ]
  },
  {
   "cell_type": "markdown",
   "metadata": {},
   "source": [
    "Drop data that does not have an entry, fill in if needed"
   ]
  },
  {
   "cell_type": "code",
   "execution_count": null,
   "metadata": {},
   "outputs": [],
   "source": [
    "data = data.drop(index=208)\n",
    "data = data.drop(index=167)\n",
    "data = data.drop(index=134)\n",
    "data = data.drop(index=233)\n",
    "data = data.drop(index=236)\n",
    "data = data.drop(index=255)\n",
    "data = data.drop(index=323)\n",
    "data = data.drop(index=418)\n",
    "data = data.reset_index()"
   ]
  },
  {
   "cell_type": "code",
   "execution_count": null,
   "metadata": {},
   "outputs": [],
   "source": [
    "zipcode_to_charity_dict = data.set_index('zip').to_dict()['charity']\n",
    "\n",
    "#Store dictionary into a numpy file for easy importing in other files\n",
    "np.save('zipcode_to_charity_dict.npy', zipcode_to_charity_dict)"
   ]
  }
 ],
 "metadata": {
  "kernelspec": {
   "display_name": "Python 3",
   "language": "python",
   "name": "python3"
  },
  "language_info": {
   "codemirror_mode": {
    "name": "ipython",
    "version": 3
   },
   "file_extension": ".py",
   "mimetype": "text/x-python",
   "name": "python",
   "nbconvert_exporter": "python",
   "pygments_lexer": "ipython3",
   "version": "3.6.5"
  }
 },
 "nbformat": 4,
 "nbformat_minor": 2
}
